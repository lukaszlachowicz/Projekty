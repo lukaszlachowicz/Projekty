{
 "cells": [
  {
   "cell_type": "code",
   "execution_count": 110,
   "id": "365d5e08-828b-451d-84c6-4fb67d0fa096",
   "metadata": {},
   "outputs": [],
   "source": [
    "import pandas as pd\n",
    "import numpy as np\n",
    "import matplotlib.pyplot as plt\n",
    "import seaborn as sns\n",
    "import glob"
   ]
  },
  {
   "cell_type": "markdown",
   "id": "8acfc183-6fe2-47f2-82c0-c0629fd7e0f5",
   "metadata": {
    "tags": []
   },
   "source": [
    "## Data loading"
   ]
  },
  {
   "cell_type": "code",
   "execution_count": 111,
   "id": "e7c7798c-7488-48ab-9ae0-cc9dd470e381",
   "metadata": {},
   "outputs": [
    {
     "name": "stdout",
     "output_type": "stream",
     "text": [
      "..\\data\\raw_data\\Sales_April_2019.csv\n",
      "..\\data\\raw_data\\Sales_August_2019.csv\n",
      "..\\data\\raw_data\\Sales_December_2019.csv\n",
      "..\\data\\raw_data\\Sales_February_2019.csv\n",
      "..\\data\\raw_data\\Sales_January_2019.csv\n",
      "..\\data\\raw_data\\Sales_July_2019.csv\n",
      "..\\data\\raw_data\\Sales_June_2019.csv\n",
      "..\\data\\raw_data\\Sales_March_2019.csv\n",
      "..\\data\\raw_data\\Sales_May_2019.csv\n",
      "..\\data\\raw_data\\Sales_November_2019.csv\n",
      "..\\data\\raw_data\\Sales_October_2019.csv\n",
      "..\\data\\raw_data\\Sales_September_2019.csv\n"
     ]
    }
   ],
   "source": [
    "files = glob.glob('..\\\\data\\\\raw_data\\\\*')\n",
    "\n",
    "for file_path in files:\n",
    "    print(file_path)"
   ]
  },
  {
   "cell_type": "code",
   "execution_count": 112,
   "id": "70e18777-c42c-4fd7-9728-3db0d122de3e",
   "metadata": {},
   "outputs": [],
   "source": [
    "dataframes = {}\n",
    "\n",
    "for file_path in files:\n",
    "    name = file_path.split(\"\\\\\")[-1][:-4]\n",
    "    df_temp = pd.read_csv(file_path)\n",
    "    dataframes[name] = df_temp"
   ]
  },
  {
   "cell_type": "code",
   "execution_count": 113,
   "id": "1cd0f9c5-3b85-4753-9402-f71537fbd7ad",
   "metadata": {},
   "outputs": [
    {
     "name": "stdout",
     "output_type": "stream",
     "text": [
      "['Order ID', 'Product', 'Quantity Ordered', 'Price Each', 'Order Date', 'Purchase Address']\n",
      "['Order ID', 'Product', 'Quantity Ordered', 'Price Each', 'Order Date', 'Purchase Address']\n",
      "['Order ID', 'Product', 'Quantity Ordered', 'Price Each', 'Order Date', 'Purchase Address']\n",
      "['Order ID', 'Product', 'Quantity Ordered', 'Price Each', 'Order Date', 'Purchase Address']\n",
      "['Order ID', 'Product', 'Quantity Ordered', 'Price Each', 'Order Date', 'Purchase Address']\n",
      "['Order ID', 'Product', 'Quantity Ordered', 'Price Each', 'Order Date', 'Purchase Address']\n",
      "['Order ID', 'Product', 'Quantity Ordered', 'Price Each', 'Order Date', 'Purchase Address']\n",
      "['Order ID', 'Product', 'Quantity Ordered', 'Price Each', 'Order Date', 'Purchase Address']\n",
      "['Order ID', 'Product', 'Quantity Ordered', 'Price Each', 'Order Date', 'Purchase Address']\n",
      "['Order ID', 'Product', 'Quantity Ordered', 'Price Each', 'Order Date', 'Purchase Address']\n",
      "['Order ID', 'Product', 'Quantity Ordered', 'Price Each', 'Order Date', 'Purchase Address']\n",
      "['Order ID', 'Product', 'Quantity Ordered', 'Price Each', 'Order Date', 'Purchase Address']\n"
     ]
    }
   ],
   "source": [
    "for df in dataframes.values():\n",
    "    print(list(df.columns))"
   ]
  },
  {
   "cell_type": "code",
   "execution_count": 114,
   "id": "0e648bc7-f1a2-4a4d-8d92-7337e005929c",
   "metadata": {},
   "outputs": [
    {
     "data": {
      "text/html": [
       "<div>\n",
       "<style scoped>\n",
       "    .dataframe tbody tr th:only-of-type {\n",
       "        vertical-align: middle;\n",
       "    }\n",
       "\n",
       "    .dataframe tbody tr th {\n",
       "        vertical-align: top;\n",
       "    }\n",
       "\n",
       "    .dataframe thead th {\n",
       "        text-align: right;\n",
       "    }\n",
       "</style>\n",
       "<table border=\"1\" class=\"dataframe\">\n",
       "  <thead>\n",
       "    <tr style=\"text-align: right;\">\n",
       "      <th></th>\n",
       "      <th>Order ID</th>\n",
       "      <th>Product</th>\n",
       "      <th>Quantity Ordered</th>\n",
       "      <th>Price Each</th>\n",
       "      <th>Order Date</th>\n",
       "      <th>Purchase Address</th>\n",
       "    </tr>\n",
       "  </thead>\n",
       "  <tbody>\n",
       "    <tr>\n",
       "      <th>0</th>\n",
       "      <td>176558</td>\n",
       "      <td>USB-C Charging Cable</td>\n",
       "      <td>2</td>\n",
       "      <td>11.95</td>\n",
       "      <td>04/19/19 08:46</td>\n",
       "      <td>917 1st St, Dallas, TX 75001</td>\n",
       "    </tr>\n",
       "    <tr>\n",
       "      <th>1</th>\n",
       "      <td>NaN</td>\n",
       "      <td>NaN</td>\n",
       "      <td>NaN</td>\n",
       "      <td>NaN</td>\n",
       "      <td>NaN</td>\n",
       "      <td>NaN</td>\n",
       "    </tr>\n",
       "    <tr>\n",
       "      <th>2</th>\n",
       "      <td>176559</td>\n",
       "      <td>Bose SoundSport Headphones</td>\n",
       "      <td>1</td>\n",
       "      <td>99.99</td>\n",
       "      <td>04/07/19 22:30</td>\n",
       "      <td>682 Chestnut St, Boston, MA 02215</td>\n",
       "    </tr>\n",
       "    <tr>\n",
       "      <th>3</th>\n",
       "      <td>176560</td>\n",
       "      <td>Google Phone</td>\n",
       "      <td>1</td>\n",
       "      <td>600</td>\n",
       "      <td>04/12/19 14:38</td>\n",
       "      <td>669 Spruce St, Los Angeles, CA 90001</td>\n",
       "    </tr>\n",
       "    <tr>\n",
       "      <th>4</th>\n",
       "      <td>176560</td>\n",
       "      <td>Wired Headphones</td>\n",
       "      <td>1</td>\n",
       "      <td>11.99</td>\n",
       "      <td>04/12/19 14:38</td>\n",
       "      <td>669 Spruce St, Los Angeles, CA 90001</td>\n",
       "    </tr>\n",
       "  </tbody>\n",
       "</table>\n",
       "</div>"
      ],
      "text/plain": [
       "  Order ID                     Product Quantity Ordered Price Each  \\\n",
       "0   176558        USB-C Charging Cable                2      11.95   \n",
       "1      NaN                         NaN              NaN        NaN   \n",
       "2   176559  Bose SoundSport Headphones                1      99.99   \n",
       "3   176560                Google Phone                1        600   \n",
       "4   176560            Wired Headphones                1      11.99   \n",
       "\n",
       "       Order Date                      Purchase Address  \n",
       "0  04/19/19 08:46          917 1st St, Dallas, TX 75001  \n",
       "1             NaN                                   NaN  \n",
       "2  04/07/19 22:30     682 Chestnut St, Boston, MA 02215  \n",
       "3  04/12/19 14:38  669 Spruce St, Los Angeles, CA 90001  \n",
       "4  04/12/19 14:38  669 Spruce St, Los Angeles, CA 90001  "
      ]
     },
     "execution_count": 114,
     "metadata": {},
     "output_type": "execute_result"
    }
   ],
   "source": [
    "dataframes['Sales_April_2019'].head()"
   ]
  },
  {
   "cell_type": "code",
   "execution_count": 115,
   "id": "39ac7871-c781-4cd3-8163-b36342ff8c5e",
   "metadata": {},
   "outputs": [],
   "source": [
    "df = pd.concat(dataframes.values(), ignore_index=True)"
   ]
  },
  {
   "cell_type": "code",
   "execution_count": 116,
   "id": "7f52d188-cd3f-4df8-8df3-2624c1be15c0",
   "metadata": {},
   "outputs": [
    {
     "data": {
      "text/html": [
       "<div>\n",
       "<style scoped>\n",
       "    .dataframe tbody tr th:only-of-type {\n",
       "        vertical-align: middle;\n",
       "    }\n",
       "\n",
       "    .dataframe tbody tr th {\n",
       "        vertical-align: top;\n",
       "    }\n",
       "\n",
       "    .dataframe thead th {\n",
       "        text-align: right;\n",
       "    }\n",
       "</style>\n",
       "<table border=\"1\" class=\"dataframe\">\n",
       "  <thead>\n",
       "    <tr style=\"text-align: right;\">\n",
       "      <th></th>\n",
       "      <th>Order ID</th>\n",
       "      <th>Product</th>\n",
       "      <th>Quantity Ordered</th>\n",
       "      <th>Price Each</th>\n",
       "      <th>Order Date</th>\n",
       "      <th>Purchase Address</th>\n",
       "    </tr>\n",
       "  </thead>\n",
       "  <tbody>\n",
       "    <tr>\n",
       "      <th>0</th>\n",
       "      <td>176558</td>\n",
       "      <td>USB-C Charging Cable</td>\n",
       "      <td>2</td>\n",
       "      <td>11.95</td>\n",
       "      <td>04/19/19 08:46</td>\n",
       "      <td>917 1st St, Dallas, TX 75001</td>\n",
       "    </tr>\n",
       "    <tr>\n",
       "      <th>1</th>\n",
       "      <td>NaN</td>\n",
       "      <td>NaN</td>\n",
       "      <td>NaN</td>\n",
       "      <td>NaN</td>\n",
       "      <td>NaN</td>\n",
       "      <td>NaN</td>\n",
       "    </tr>\n",
       "    <tr>\n",
       "      <th>2</th>\n",
       "      <td>176559</td>\n",
       "      <td>Bose SoundSport Headphones</td>\n",
       "      <td>1</td>\n",
       "      <td>99.99</td>\n",
       "      <td>04/07/19 22:30</td>\n",
       "      <td>682 Chestnut St, Boston, MA 02215</td>\n",
       "    </tr>\n",
       "    <tr>\n",
       "      <th>3</th>\n",
       "      <td>176560</td>\n",
       "      <td>Google Phone</td>\n",
       "      <td>1</td>\n",
       "      <td>600</td>\n",
       "      <td>04/12/19 14:38</td>\n",
       "      <td>669 Spruce St, Los Angeles, CA 90001</td>\n",
       "    </tr>\n",
       "    <tr>\n",
       "      <th>4</th>\n",
       "      <td>176560</td>\n",
       "      <td>Wired Headphones</td>\n",
       "      <td>1</td>\n",
       "      <td>11.99</td>\n",
       "      <td>04/12/19 14:38</td>\n",
       "      <td>669 Spruce St, Los Angeles, CA 90001</td>\n",
       "    </tr>\n",
       "  </tbody>\n",
       "</table>\n",
       "</div>"
      ],
      "text/plain": [
       "  Order ID                     Product Quantity Ordered Price Each  \\\n",
       "0   176558        USB-C Charging Cable                2      11.95   \n",
       "1      NaN                         NaN              NaN        NaN   \n",
       "2   176559  Bose SoundSport Headphones                1      99.99   \n",
       "3   176560                Google Phone                1        600   \n",
       "4   176560            Wired Headphones                1      11.99   \n",
       "\n",
       "       Order Date                      Purchase Address  \n",
       "0  04/19/19 08:46          917 1st St, Dallas, TX 75001  \n",
       "1             NaN                                   NaN  \n",
       "2  04/07/19 22:30     682 Chestnut St, Boston, MA 02215  \n",
       "3  04/12/19 14:38  669 Spruce St, Los Angeles, CA 90001  \n",
       "4  04/12/19 14:38  669 Spruce St, Los Angeles, CA 90001  "
      ]
     },
     "execution_count": 116,
     "metadata": {},
     "output_type": "execute_result"
    }
   ],
   "source": [
    "df.head()"
   ]
  },
  {
   "cell_type": "markdown",
   "id": "38f5fc28-27f7-49df-8aca-74b05fc20ce8",
   "metadata": {
    "tags": []
   },
   "source": [
    "## Data cleaning and processing"
   ]
  },
  {
   "cell_type": "code",
   "execution_count": 117,
   "id": "031a92dc-2134-4707-a7c9-9ce597cd4d3c",
   "metadata": {},
   "outputs": [
    {
     "data": {
      "text/plain": [
       "Order ID            545\n",
       "Product             545\n",
       "Quantity Ordered    545\n",
       "Price Each          545\n",
       "Order Date          545\n",
       "Purchase Address    545\n",
       "dtype: int64"
      ]
     },
     "execution_count": 117,
     "metadata": {},
     "output_type": "execute_result"
    }
   ],
   "source": [
    "df.isna().sum()"
   ]
  },
  {
   "cell_type": "code",
   "execution_count": 118,
   "id": "e2b343d9-9fc0-4f12-b4c6-ce1515c8f370",
   "metadata": {},
   "outputs": [
    {
     "data": {
      "text/plain": [
       "545"
      ]
     },
     "execution_count": 118,
     "metadata": {},
     "output_type": "execute_result"
    }
   ],
   "source": [
    "df.isna().any(axis=1).sum()"
   ]
  },
  {
   "cell_type": "code",
   "execution_count": 119,
   "id": "98693a8d-c48b-46b0-ae58-555416b0e371",
   "metadata": {},
   "outputs": [],
   "source": [
    "df = df.dropna()"
   ]
  },
  {
   "cell_type": "code",
   "execution_count": 120,
   "id": "d028b7d4-0025-42ef-ac22-2bf03a9752f5",
   "metadata": {},
   "outputs": [],
   "source": [
    "df = df[df['Order Date'] != 'Order Date']"
   ]
  },
  {
   "cell_type": "code",
   "execution_count": 121,
   "id": "a5f245c6-e567-43ce-b01c-05c74098d2fa",
   "metadata": {},
   "outputs": [],
   "source": [
    "df['Order Date'] = pd.to_datetime(df['Order Date'], format='%m/%d/%y %H:%M')"
   ]
  },
  {
   "cell_type": "code",
   "execution_count": 122,
   "id": "993e957b-8eee-4b52-8e50-240acd0c3f10",
   "metadata": {},
   "outputs": [],
   "source": [
    "df['Date'] = df['Order Date'].dt.date\n",
    "df['Time'] = df['Order Date'].dt.time"
   ]
  },
  {
   "cell_type": "code",
   "execution_count": 123,
   "id": "3f8df46a-3b71-4fbe-9446-6a522ec2275d",
   "metadata": {},
   "outputs": [],
   "source": [
    "df = df.drop('Order Date', axis=1)"
   ]
  },
  {
   "cell_type": "code",
   "execution_count": 124,
   "id": "c7dfb890-c8b8-4dcc-a454-105ce2c5b70f",
   "metadata": {},
   "outputs": [],
   "source": [
    "df['Quantity Ordered'] = pd.to_numeric(df['Quantity Ordered'])\n",
    "df['Price Each'] = pd.to_numeric(df['Price Each'])"
   ]
  },
  {
   "cell_type": "code",
   "execution_count": 125,
   "id": "ad8082f6-25e7-488d-a02c-c6baee83944e",
   "metadata": {},
   "outputs": [
    {
     "name": "stdout",
     "output_type": "stream",
     "text": [
      "<class 'pandas.core.frame.DataFrame'>\n",
      "Int64Index: 185950 entries, 0 to 186849\n",
      "Data columns (total 7 columns):\n",
      " #   Column            Non-Null Count   Dtype  \n",
      "---  ------            --------------   -----  \n",
      " 0   Order ID          185950 non-null  object \n",
      " 1   Product           185950 non-null  object \n",
      " 2   Quantity Ordered  185950 non-null  int64  \n",
      " 3   Price Each        185950 non-null  float64\n",
      " 4   Purchase Address  185950 non-null  object \n",
      " 5   Date              185950 non-null  object \n",
      " 6   Time              185950 non-null  object \n",
      "dtypes: float64(1), int64(1), object(5)\n",
      "memory usage: 11.3+ MB\n"
     ]
    }
   ],
   "source": [
    "df.info()"
   ]
  },
  {
   "cell_type": "code",
   "execution_count": 126,
   "id": "0ad2fb66-52bc-4bdf-baf8-7f7bbf97d84e",
   "metadata": {},
   "outputs": [
    {
     "data": {
      "text/html": [
       "<div>\n",
       "<style scoped>\n",
       "    .dataframe tbody tr th:only-of-type {\n",
       "        vertical-align: middle;\n",
       "    }\n",
       "\n",
       "    .dataframe tbody tr th {\n",
       "        vertical-align: top;\n",
       "    }\n",
       "\n",
       "    .dataframe thead th {\n",
       "        text-align: right;\n",
       "    }\n",
       "</style>\n",
       "<table border=\"1\" class=\"dataframe\">\n",
       "  <thead>\n",
       "    <tr style=\"text-align: right;\">\n",
       "      <th></th>\n",
       "      <th>Order ID</th>\n",
       "      <th>Product</th>\n",
       "      <th>Quantity Ordered</th>\n",
       "      <th>Price Each</th>\n",
       "      <th>Purchase Address</th>\n",
       "      <th>Date</th>\n",
       "      <th>Time</th>\n",
       "    </tr>\n",
       "  </thead>\n",
       "  <tbody>\n",
       "    <tr>\n",
       "      <th>0</th>\n",
       "      <td>176558</td>\n",
       "      <td>USB-C Charging Cable</td>\n",
       "      <td>2</td>\n",
       "      <td>11.95</td>\n",
       "      <td>917 1st St, Dallas, TX 75001</td>\n",
       "      <td>2019-04-19</td>\n",
       "      <td>08:46:00</td>\n",
       "    </tr>\n",
       "    <tr>\n",
       "      <th>2</th>\n",
       "      <td>176559</td>\n",
       "      <td>Bose SoundSport Headphones</td>\n",
       "      <td>1</td>\n",
       "      <td>99.99</td>\n",
       "      <td>682 Chestnut St, Boston, MA 02215</td>\n",
       "      <td>2019-04-07</td>\n",
       "      <td>22:30:00</td>\n",
       "    </tr>\n",
       "    <tr>\n",
       "      <th>3</th>\n",
       "      <td>176560</td>\n",
       "      <td>Google Phone</td>\n",
       "      <td>1</td>\n",
       "      <td>600.00</td>\n",
       "      <td>669 Spruce St, Los Angeles, CA 90001</td>\n",
       "      <td>2019-04-12</td>\n",
       "      <td>14:38:00</td>\n",
       "    </tr>\n",
       "    <tr>\n",
       "      <th>4</th>\n",
       "      <td>176560</td>\n",
       "      <td>Wired Headphones</td>\n",
       "      <td>1</td>\n",
       "      <td>11.99</td>\n",
       "      <td>669 Spruce St, Los Angeles, CA 90001</td>\n",
       "      <td>2019-04-12</td>\n",
       "      <td>14:38:00</td>\n",
       "    </tr>\n",
       "    <tr>\n",
       "      <th>5</th>\n",
       "      <td>176561</td>\n",
       "      <td>Wired Headphones</td>\n",
       "      <td>1</td>\n",
       "      <td>11.99</td>\n",
       "      <td>333 8th St, Los Angeles, CA 90001</td>\n",
       "      <td>2019-04-30</td>\n",
       "      <td>09:27:00</td>\n",
       "    </tr>\n",
       "  </tbody>\n",
       "</table>\n",
       "</div>"
      ],
      "text/plain": [
       "  Order ID                     Product  Quantity Ordered  Price Each  \\\n",
       "0   176558        USB-C Charging Cable                 2       11.95   \n",
       "2   176559  Bose SoundSport Headphones                 1       99.99   \n",
       "3   176560                Google Phone                 1      600.00   \n",
       "4   176560            Wired Headphones                 1       11.99   \n",
       "5   176561            Wired Headphones                 1       11.99   \n",
       "\n",
       "                       Purchase Address        Date      Time  \n",
       "0          917 1st St, Dallas, TX 75001  2019-04-19  08:46:00  \n",
       "2     682 Chestnut St, Boston, MA 02215  2019-04-07  22:30:00  \n",
       "3  669 Spruce St, Los Angeles, CA 90001  2019-04-12  14:38:00  \n",
       "4  669 Spruce St, Los Angeles, CA 90001  2019-04-12  14:38:00  \n",
       "5     333 8th St, Los Angeles, CA 90001  2019-04-30  09:27:00  "
      ]
     },
     "execution_count": 126,
     "metadata": {},
     "output_type": "execute_result"
    }
   ],
   "source": [
    "df.head()"
   ]
  },
  {
   "cell_type": "code",
   "execution_count": 127,
   "id": "1c627df3-794b-4ff7-831e-269d9d970cf1",
   "metadata": {},
   "outputs": [],
   "source": [
    "df['City'] = df['Purchase Address'].apply(lambda x: x.split(', ')[1])\n",
    "df['State'] = df['Purchase Address'].apply(lambda x: x.split(', ')[2].split(' ')[0])\n",
    "df['Zip Code'] = df['Purchase Address'].apply(lambda x: x.split(', ')[2].split(' ')[1])"
   ]
  },
  {
   "cell_type": "code",
   "execution_count": 128,
   "id": "4731d1eb-1e96-4674-b871-48cbbdbcee02",
   "metadata": {},
   "outputs": [],
   "source": [
    "df = df.drop('Purchase Address', axis=1)"
   ]
  },
  {
   "cell_type": "code",
   "execution_count": 129,
   "id": "8230b747-3d35-4f1f-91db-1a664217b86f",
   "metadata": {},
   "outputs": [
    {
     "data": {
      "text/html": [
       "<div>\n",
       "<style scoped>\n",
       "    .dataframe tbody tr th:only-of-type {\n",
       "        vertical-align: middle;\n",
       "    }\n",
       "\n",
       "    .dataframe tbody tr th {\n",
       "        vertical-align: top;\n",
       "    }\n",
       "\n",
       "    .dataframe thead th {\n",
       "        text-align: right;\n",
       "    }\n",
       "</style>\n",
       "<table border=\"1\" class=\"dataframe\">\n",
       "  <thead>\n",
       "    <tr style=\"text-align: right;\">\n",
       "      <th></th>\n",
       "      <th>Order ID</th>\n",
       "      <th>Product</th>\n",
       "      <th>Quantity Ordered</th>\n",
       "      <th>Price Each</th>\n",
       "      <th>Date</th>\n",
       "      <th>Time</th>\n",
       "      <th>City</th>\n",
       "      <th>State</th>\n",
       "      <th>Zip Code</th>\n",
       "    </tr>\n",
       "  </thead>\n",
       "  <tbody>\n",
       "    <tr>\n",
       "      <th>0</th>\n",
       "      <td>176558</td>\n",
       "      <td>USB-C Charging Cable</td>\n",
       "      <td>2</td>\n",
       "      <td>11.95</td>\n",
       "      <td>2019-04-19</td>\n",
       "      <td>08:46:00</td>\n",
       "      <td>Dallas</td>\n",
       "      <td>TX</td>\n",
       "      <td>75001</td>\n",
       "    </tr>\n",
       "    <tr>\n",
       "      <th>2</th>\n",
       "      <td>176559</td>\n",
       "      <td>Bose SoundSport Headphones</td>\n",
       "      <td>1</td>\n",
       "      <td>99.99</td>\n",
       "      <td>2019-04-07</td>\n",
       "      <td>22:30:00</td>\n",
       "      <td>Boston</td>\n",
       "      <td>MA</td>\n",
       "      <td>02215</td>\n",
       "    </tr>\n",
       "    <tr>\n",
       "      <th>3</th>\n",
       "      <td>176560</td>\n",
       "      <td>Google Phone</td>\n",
       "      <td>1</td>\n",
       "      <td>600.00</td>\n",
       "      <td>2019-04-12</td>\n",
       "      <td>14:38:00</td>\n",
       "      <td>Los Angeles</td>\n",
       "      <td>CA</td>\n",
       "      <td>90001</td>\n",
       "    </tr>\n",
       "    <tr>\n",
       "      <th>4</th>\n",
       "      <td>176560</td>\n",
       "      <td>Wired Headphones</td>\n",
       "      <td>1</td>\n",
       "      <td>11.99</td>\n",
       "      <td>2019-04-12</td>\n",
       "      <td>14:38:00</td>\n",
       "      <td>Los Angeles</td>\n",
       "      <td>CA</td>\n",
       "      <td>90001</td>\n",
       "    </tr>\n",
       "    <tr>\n",
       "      <th>5</th>\n",
       "      <td>176561</td>\n",
       "      <td>Wired Headphones</td>\n",
       "      <td>1</td>\n",
       "      <td>11.99</td>\n",
       "      <td>2019-04-30</td>\n",
       "      <td>09:27:00</td>\n",
       "      <td>Los Angeles</td>\n",
       "      <td>CA</td>\n",
       "      <td>90001</td>\n",
       "    </tr>\n",
       "  </tbody>\n",
       "</table>\n",
       "</div>"
      ],
      "text/plain": [
       "  Order ID                     Product  Quantity Ordered  Price Each  \\\n",
       "0   176558        USB-C Charging Cable                 2       11.95   \n",
       "2   176559  Bose SoundSport Headphones                 1       99.99   \n",
       "3   176560                Google Phone                 1      600.00   \n",
       "4   176560            Wired Headphones                 1       11.99   \n",
       "5   176561            Wired Headphones                 1       11.99   \n",
       "\n",
       "         Date      Time         City State Zip Code  \n",
       "0  2019-04-19  08:46:00       Dallas    TX    75001  \n",
       "2  2019-04-07  22:30:00       Boston    MA    02215  \n",
       "3  2019-04-12  14:38:00  Los Angeles    CA    90001  \n",
       "4  2019-04-12  14:38:00  Los Angeles    CA    90001  \n",
       "5  2019-04-30  09:27:00  Los Angeles    CA    90001  "
      ]
     },
     "execution_count": 129,
     "metadata": {},
     "output_type": "execute_result"
    }
   ],
   "source": [
    "df.head()"
   ]
  },
  {
   "cell_type": "code",
   "execution_count": 130,
   "id": "799c779c-649e-42cd-87f1-b4cc9bd3398e",
   "metadata": {},
   "outputs": [
    {
     "data": {
      "text/plain": [
       "Order ID            178437\n",
       "Product                 19\n",
       "Quantity Ordered         9\n",
       "Price Each              17\n",
       "Date                   366\n",
       "Time                  1440\n",
       "City                     9\n",
       "State                    8\n",
       "Zip Code                10\n",
       "dtype: int64"
      ]
     },
     "execution_count": 130,
     "metadata": {},
     "output_type": "execute_result"
    }
   ],
   "source": [
    "df.nunique()"
   ]
  },
  {
   "cell_type": "code",
   "execution_count": 131,
   "id": "0e28921a-fad4-484d-a860-c00815385577",
   "metadata": {},
   "outputs": [
    {
     "data": {
      "text/plain": [
       "['20in Monitor',\n",
       " '27in 4K Gaming Monitor',\n",
       " '27in FHD Monitor',\n",
       " '34in Ultrawide Monitor',\n",
       " 'AA Batteries (4-pack)',\n",
       " 'AAA Batteries (4-pack)',\n",
       " 'Apple Airpods Headphones',\n",
       " 'Bose SoundSport Headphones',\n",
       " 'Flatscreen TV',\n",
       " 'Google Phone',\n",
       " 'LG Dryer',\n",
       " 'LG Washing Machine',\n",
       " 'Lightning Charging Cable',\n",
       " 'Macbook Pro Laptop',\n",
       " 'ThinkPad Laptop',\n",
       " 'USB-C Charging Cable',\n",
       " 'Vareebadd Phone',\n",
       " 'Wired Headphones',\n",
       " 'iPhone']"
      ]
     },
     "execution_count": 131,
     "metadata": {},
     "output_type": "execute_result"
    }
   ],
   "source": [
    "sorted(df['Product'].unique())"
   ]
  },
  {
   "cell_type": "code",
   "execution_count": 132,
   "id": "93af70c4-e2bb-4b2b-a9cb-e00e71f9ab0c",
   "metadata": {},
   "outputs": [
    {
     "data": {
      "text/plain": [
       "['Atlanta',\n",
       " 'Austin',\n",
       " 'Boston',\n",
       " 'Dallas',\n",
       " 'Los Angeles',\n",
       " 'New York City',\n",
       " 'Portland',\n",
       " 'San Francisco',\n",
       " 'Seattle']"
      ]
     },
     "execution_count": 132,
     "metadata": {},
     "output_type": "execute_result"
    }
   ],
   "source": [
    "sorted(df['City'].unique())"
   ]
  },
  {
   "cell_type": "code",
   "execution_count": 133,
   "id": "cf3634d6-d71e-4efd-bf97-4d575780a598",
   "metadata": {},
   "outputs": [
    {
     "data": {
      "text/plain": [
       "['CA', 'GA', 'MA', 'ME', 'NY', 'OR', 'TX', 'WA']"
      ]
     },
     "execution_count": 133,
     "metadata": {},
     "output_type": "execute_result"
    }
   ],
   "source": [
    "sorted(df['State'].unique())"
   ]
  },
  {
   "cell_type": "code",
   "execution_count": 134,
   "id": "95eff87b-5199-4462-8417-43f4c613d52c",
   "metadata": {},
   "outputs": [
    {
     "data": {
      "text/plain": [
       "['02215',\n",
       " '04101',\n",
       " '10001',\n",
       " '30301',\n",
       " '73301',\n",
       " '75001',\n",
       " '90001',\n",
       " '94016',\n",
       " '97035',\n",
       " '98101']"
      ]
     },
     "execution_count": 134,
     "metadata": {},
     "output_type": "execute_result"
    }
   ],
   "source": [
    "sorted(df['Zip Code'].unique())"
   ]
  },
  {
   "cell_type": "code",
   "execution_count": 135,
   "id": "bd25fcc5-b4c7-4cb1-922a-4424316a4c8d",
   "metadata": {},
   "outputs": [
    {
     "data": {
      "text/plain": [
       "264"
      ]
     },
     "execution_count": 135,
     "metadata": {},
     "output_type": "execute_result"
    }
   ],
   "source": [
    "df.duplicated().sum()"
   ]
  },
  {
   "cell_type": "code",
   "execution_count": 136,
   "id": "c40b1d69-8fe2-4205-9aba-12199ed0346d",
   "metadata": {},
   "outputs": [],
   "source": [
    "columns_to_group = list(df.drop('Quantity Ordered', axis=1).columns)\n",
    "\n",
    "df_grouped = df.groupby(columns_to_group, as_index=False)['Quantity Ordered'].sum()"
   ]
  },
  {
   "cell_type": "code",
   "execution_count": 137,
   "id": "04ea3814-08b8-45ab-8ded-ea95c858f617",
   "metadata": {},
   "outputs": [
    {
     "data": {
      "text/html": [
       "<div>\n",
       "<style scoped>\n",
       "    .dataframe tbody tr th:only-of-type {\n",
       "        vertical-align: middle;\n",
       "    }\n",
       "\n",
       "    .dataframe tbody tr th {\n",
       "        vertical-align: top;\n",
       "    }\n",
       "\n",
       "    .dataframe thead th {\n",
       "        text-align: right;\n",
       "    }\n",
       "</style>\n",
       "<table border=\"1\" class=\"dataframe\">\n",
       "  <thead>\n",
       "    <tr style=\"text-align: right;\">\n",
       "      <th></th>\n",
       "      <th>Order ID</th>\n",
       "      <th>Product</th>\n",
       "      <th>Price Each</th>\n",
       "      <th>Date</th>\n",
       "      <th>Time</th>\n",
       "      <th>City</th>\n",
       "      <th>State</th>\n",
       "      <th>Zip Code</th>\n",
       "      <th>Quantity Ordered</th>\n",
       "    </tr>\n",
       "  </thead>\n",
       "  <tbody>\n",
       "  </tbody>\n",
       "</table>\n",
       "</div>"
      ],
      "text/plain": [
       "Empty DataFrame\n",
       "Columns: [Order ID, Product, Price Each, Date, Time, City, State, Zip Code, Quantity Ordered]\n",
       "Index: []"
      ]
     },
     "execution_count": 137,
     "metadata": {},
     "output_type": "execute_result"
    }
   ],
   "source": [
    "df_grouped[df_grouped['Price Each'] <= 0]"
   ]
  },
  {
   "cell_type": "code",
   "execution_count": 138,
   "id": "027f4b4c-c860-47a3-a7a6-8159e2a805a3",
   "metadata": {},
   "outputs": [
    {
     "data": {
      "text/html": [
       "<div>\n",
       "<style scoped>\n",
       "    .dataframe tbody tr th:only-of-type {\n",
       "        vertical-align: middle;\n",
       "    }\n",
       "\n",
       "    .dataframe tbody tr th {\n",
       "        vertical-align: top;\n",
       "    }\n",
       "\n",
       "    .dataframe thead th {\n",
       "        text-align: right;\n",
       "    }\n",
       "</style>\n",
       "<table border=\"1\" class=\"dataframe\">\n",
       "  <thead>\n",
       "    <tr style=\"text-align: right;\">\n",
       "      <th></th>\n",
       "      <th>Order ID</th>\n",
       "      <th>Product</th>\n",
       "      <th>Price Each</th>\n",
       "      <th>Date</th>\n",
       "      <th>Time</th>\n",
       "      <th>City</th>\n",
       "      <th>State</th>\n",
       "      <th>Zip Code</th>\n",
       "      <th>Quantity Ordered</th>\n",
       "    </tr>\n",
       "  </thead>\n",
       "  <tbody>\n",
       "  </tbody>\n",
       "</table>\n",
       "</div>"
      ],
      "text/plain": [
       "Empty DataFrame\n",
       "Columns: [Order ID, Product, Price Each, Date, Time, City, State, Zip Code, Quantity Ordered]\n",
       "Index: []"
      ]
     },
     "execution_count": 138,
     "metadata": {},
     "output_type": "execute_result"
    }
   ],
   "source": [
    "df_grouped[df_grouped['Quantity Ordered'] <= 0]"
   ]
  },
  {
   "cell_type": "code",
   "execution_count": 139,
   "id": "b26fce4c-065d-4cbf-aaae-a7dd45751bae",
   "metadata": {},
   "outputs": [],
   "source": [
    "df_grouped['Total Price'] = df_grouped['Price Each'] * df_grouped['Quantity Ordered']"
   ]
  },
  {
   "cell_type": "code",
   "execution_count": 140,
   "id": "b1551bfb-aaf0-4561-8c06-dd1728c0485e",
   "metadata": {},
   "outputs": [
    {
     "data": {
      "text/html": [
       "<div>\n",
       "<style scoped>\n",
       "    .dataframe tbody tr th:only-of-type {\n",
       "        vertical-align: middle;\n",
       "    }\n",
       "\n",
       "    .dataframe tbody tr th {\n",
       "        vertical-align: top;\n",
       "    }\n",
       "\n",
       "    .dataframe thead th {\n",
       "        text-align: right;\n",
       "    }\n",
       "</style>\n",
       "<table border=\"1\" class=\"dataframe\">\n",
       "  <thead>\n",
       "    <tr style=\"text-align: right;\">\n",
       "      <th></th>\n",
       "      <th>Order ID</th>\n",
       "      <th>Product</th>\n",
       "      <th>Price Each</th>\n",
       "      <th>Date</th>\n",
       "      <th>Time</th>\n",
       "      <th>City</th>\n",
       "      <th>State</th>\n",
       "      <th>Zip Code</th>\n",
       "      <th>Quantity Ordered</th>\n",
       "      <th>Total Price</th>\n",
       "    </tr>\n",
       "  </thead>\n",
       "  <tbody>\n",
       "    <tr>\n",
       "      <th>0</th>\n",
       "      <td>141234</td>\n",
       "      <td>iPhone</td>\n",
       "      <td>700.00</td>\n",
       "      <td>2019-01-22</td>\n",
       "      <td>21:25:00</td>\n",
       "      <td>Boston</td>\n",
       "      <td>MA</td>\n",
       "      <td>02215</td>\n",
       "      <td>1</td>\n",
       "      <td>700.00</td>\n",
       "    </tr>\n",
       "    <tr>\n",
       "      <th>1</th>\n",
       "      <td>141235</td>\n",
       "      <td>Lightning Charging Cable</td>\n",
       "      <td>14.95</td>\n",
       "      <td>2019-01-28</td>\n",
       "      <td>14:15:00</td>\n",
       "      <td>Portland</td>\n",
       "      <td>OR</td>\n",
       "      <td>97035</td>\n",
       "      <td>1</td>\n",
       "      <td>14.95</td>\n",
       "    </tr>\n",
       "    <tr>\n",
       "      <th>2</th>\n",
       "      <td>141236</td>\n",
       "      <td>Wired Headphones</td>\n",
       "      <td>11.99</td>\n",
       "      <td>2019-01-17</td>\n",
       "      <td>13:33:00</td>\n",
       "      <td>San Francisco</td>\n",
       "      <td>CA</td>\n",
       "      <td>94016</td>\n",
       "      <td>2</td>\n",
       "      <td>23.98</td>\n",
       "    </tr>\n",
       "    <tr>\n",
       "      <th>3</th>\n",
       "      <td>141237</td>\n",
       "      <td>27in FHD Monitor</td>\n",
       "      <td>149.99</td>\n",
       "      <td>2019-01-05</td>\n",
       "      <td>20:33:00</td>\n",
       "      <td>Los Angeles</td>\n",
       "      <td>CA</td>\n",
       "      <td>90001</td>\n",
       "      <td>1</td>\n",
       "      <td>149.99</td>\n",
       "    </tr>\n",
       "    <tr>\n",
       "      <th>4</th>\n",
       "      <td>141238</td>\n",
       "      <td>Wired Headphones</td>\n",
       "      <td>11.99</td>\n",
       "      <td>2019-01-25</td>\n",
       "      <td>11:59:00</td>\n",
       "      <td>Austin</td>\n",
       "      <td>TX</td>\n",
       "      <td>73301</td>\n",
       "      <td>1</td>\n",
       "      <td>11.99</td>\n",
       "    </tr>\n",
       "  </tbody>\n",
       "</table>\n",
       "</div>"
      ],
      "text/plain": [
       "  Order ID                   Product  Price Each        Date      Time  \\\n",
       "0   141234                    iPhone      700.00  2019-01-22  21:25:00   \n",
       "1   141235  Lightning Charging Cable       14.95  2019-01-28  14:15:00   \n",
       "2   141236          Wired Headphones       11.99  2019-01-17  13:33:00   \n",
       "3   141237          27in FHD Monitor      149.99  2019-01-05  20:33:00   \n",
       "4   141238          Wired Headphones       11.99  2019-01-25  11:59:00   \n",
       "\n",
       "            City State Zip Code  Quantity Ordered  Total Price  \n",
       "0         Boston    MA    02215                 1       700.00  \n",
       "1       Portland    OR    97035                 1        14.95  \n",
       "2  San Francisco    CA    94016                 2        23.98  \n",
       "3    Los Angeles    CA    90001                 1       149.99  \n",
       "4         Austin    TX    73301                 1        11.99  "
      ]
     },
     "execution_count": 140,
     "metadata": {},
     "output_type": "execute_result"
    }
   ],
   "source": [
    "df_grouped.head()"
   ]
  },
  {
   "cell_type": "code",
   "execution_count": 141,
   "id": "bab7d016-737d-49d1-8732-b922f68049f4",
   "metadata": {},
   "outputs": [],
   "source": [
    "df_grouped.to_csv('..\\\\data\\\\Sales_2019_processed.csv', index=False)"
   ]
  },
  {
   "cell_type": "code",
   "execution_count": null,
   "id": "94167703-5acb-4aeb-873e-2dfaa29c4a64",
   "metadata": {},
   "outputs": [],
   "source": []
  }
 ],
 "metadata": {
  "kernelspec": {
   "display_name": "Python 3 (ipykernel)",
   "language": "python",
   "name": "python3"
  },
  "language_info": {
   "codemirror_mode": {
    "name": "ipython",
    "version": 3
   },
   "file_extension": ".py",
   "mimetype": "text/x-python",
   "name": "python",
   "nbconvert_exporter": "python",
   "pygments_lexer": "ipython3",
   "version": "3.9.12"
  }
 },
 "nbformat": 4,
 "nbformat_minor": 5
}
